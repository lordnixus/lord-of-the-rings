{
  "nbformat": 4,
  "nbformat_minor": 0,
  "metadata": {
    "colab": {
      "provenance": []
    },
    "kernelspec": {
      "name": "python3",
      "display_name": "Python 3"
    },
    "language_info": {
      "name": "python"
    }
  },
  "cells": [
    {
      "cell_type": "code",
      "execution_count": null,
      "metadata": {
        "colab": {
          "base_uri": "https://localhost:8080/"
        },
        "id": "wiaTdPDlmWf7",
        "outputId": "a8aaaf8f-d144-436c-adfc-9720f8de2591"
      },
      "outputs": [
        {
          "output_type": "stream",
          "name": "stdout",
          "text": [
            "Looking in indexes: https://pypi.org/simple, https://us-python.pkg.dev/colab-wheels/public/simple/\n",
            "Requirement already satisfied: selenium in /usr/local/lib/python3.9/dist-packages (4.8.3)\n",
            "Requirement already satisfied: trio-websocket~=0.9 in /usr/local/lib/python3.9/dist-packages (from selenium) (0.10.2)\n",
            "Requirement already satisfied: certifi>=2021.10.8 in /usr/local/lib/python3.9/dist-packages (from selenium) (2022.12.7)\n",
            "Requirement already satisfied: trio~=0.17 in /usr/local/lib/python3.9/dist-packages (from selenium) (0.22.0)\n",
            "Requirement already satisfied: urllib3[socks]~=1.26 in /usr/local/lib/python3.9/dist-packages (from selenium) (1.26.15)\n",
            "Requirement already satisfied: idna in /usr/local/lib/python3.9/dist-packages (from trio~=0.17->selenium) (3.4)\n",
            "Requirement already satisfied: sniffio in /usr/local/lib/python3.9/dist-packages (from trio~=0.17->selenium) (1.3.0)\n",
            "Requirement already satisfied: sortedcontainers in /usr/local/lib/python3.9/dist-packages (from trio~=0.17->selenium) (2.4.0)\n",
            "Requirement already satisfied: exceptiongroup>=1.0.0rc9 in /usr/local/lib/python3.9/dist-packages (from trio~=0.17->selenium) (1.1.1)\n",
            "Requirement already satisfied: attrs>=19.2.0 in /usr/local/lib/python3.9/dist-packages (from trio~=0.17->selenium) (22.2.0)\n",
            "Requirement already satisfied: async-generator>=1.9 in /usr/local/lib/python3.9/dist-packages (from trio~=0.17->selenium) (1.10)\n",
            "Requirement already satisfied: outcome in /usr/local/lib/python3.9/dist-packages (from trio~=0.17->selenium) (1.2.0)\n",
            "Requirement already satisfied: wsproto>=0.14 in /usr/local/lib/python3.9/dist-packages (from trio-websocket~=0.9->selenium) (1.2.0)\n",
            "Requirement already satisfied: PySocks!=1.5.7,<2.0,>=1.5.6 in /usr/local/lib/python3.9/dist-packages (from urllib3[socks]~=1.26->selenium) (1.7.1)\n",
            "Requirement already satisfied: h11<1,>=0.9.0 in /usr/local/lib/python3.9/dist-packages (from wsproto>=0.14->trio-websocket~=0.9->selenium) (0.14.0)\n"
          ]
        }
      ],
      "source": [
        "!pip install selenium"
      ]
    },
    {
      "cell_type": "code",
      "source": [
        "%%shell\n",
        "\n",
        "# Add debian buster\n",
        "cat > /etc/apt/sources.list.d/debian.list <<'EOF'\n",
        "deb [arch=amd64 signed-by=/usr/share/keyrings/debian-buster.gpg] http://deb.debian.org/debian buster main\n",
        "deb [arch=amd64 signed-by=/usr/share/keyrings/debian-buster-updates.gpg] http://deb.debian.org/debian buster-updates main\n",
        "deb [arch=amd64 signed-by=/usr/share/keyrings/debian-security-buster.gpg] http://deb.debian.org/debian-security buster/updates main\n",
        "EOF\n",
        "\n",
        "# Add keys\n",
        "apt-key adv --keyserver keyserver.ubuntu.com --recv-keys DCC9EFBF77E11517\n",
        "apt-key adv --keyserver keyserver.ubuntu.com --recv-keys 648ACFD622F3D138\n",
        "apt-key adv --keyserver keyserver.ubuntu.com --recv-keys 112695A0E562B32A\n",
        "\n",
        "apt-key export 77E11517 | gpg --dearmour -o /usr/share/keyrings/debian-buster.gpg\n",
        "apt-key export 22F3D138 | gpg --dearmour -o /usr/share/keyrings/debian-buster-updates.gpg\n",
        "apt-key export E562B32A | gpg --dearmour -o /usr/share/keyrings/debian-security-buster.gpg\n",
        "\n",
        "# Prefer debian repo for chromium* packages only\n",
        "# Note the double-blank lines between entries\n",
        "cat > /etc/apt/preferences.d/chromium.pref << 'EOF'\n",
        "Package: *\n",
        "Pin: release a=eoan\n",
        "Pin-Priority: 500\n",
        "\n",
        "\n",
        "Package: *\n",
        "Pin: origin \"deb.debian.org\"\n",
        "Pin-Priority: 300\n",
        "\n",
        "\n",
        "Package: chromium*\n",
        "Pin: origin \"deb.debian.org\"\n",
        "Pin-Priority: 700\n",
        "EOF"
      ],
      "metadata": {
        "colab": {
          "base_uri": "https://localhost:8080/"
        },
        "id": "p8y1edTjoZVM",
        "outputId": "7d88a4fb-c2ad-4d44-b8d8-05d331d2e08a"
      },
      "execution_count": null,
      "outputs": [
        {
          "output_type": "stream",
          "name": "stdout",
          "text": [
            "Executing: /tmp/apt-key-gpghome.s6rYUf7lNJ/gpg.1.sh --keyserver keyserver.ubuntu.com --recv-keys DCC9EFBF77E11517\n",
            "gpg: key DCC9EFBF77E11517: \"Debian Stable Release Key (10/buster) <debian-release@lists.debian.org>\" not changed\n",
            "gpg: Total number processed: 1\n",
            "gpg:              unchanged: 1\n",
            "Executing: /tmp/apt-key-gpghome.3TfgbocWgD/gpg.1.sh --keyserver keyserver.ubuntu.com --recv-keys 648ACFD622F3D138\n",
            "gpg: key DC30D7C23CBBABEE: \"Debian Archive Automatic Signing Key (10/buster) <ftpmaster@debian.org>\" not changed\n",
            "gpg: Total number processed: 1\n",
            "gpg:              unchanged: 1\n",
            "Executing: /tmp/apt-key-gpghome.94tjN4ooQK/gpg.1.sh --keyserver keyserver.ubuntu.com --recv-keys 112695A0E562B32A\n",
            "gpg: key 4DFAB270CAA96DFA: \"Debian Security Archive Automatic Signing Key (10/buster) <ftpmaster@debian.org>\" not changed\n",
            "gpg: Total number processed: 1\n",
            "gpg:              unchanged: 1\n",
            "gpg: cannot open '/dev/tty': No such device or address\n",
            "Warning: apt-key output should not be parsed (stdout is not a terminal)\n",
            "gpg: [stdout]: write error: Broken pipe\n",
            "gpg: filter_flush failed on close: Broken pipe\n",
            "gpg: cannot open '/dev/tty': No such device or address\n",
            "Warning: apt-key output should not be parsed (stdout is not a terminal)\n",
            "gpg: [stdout]: write error: Broken pipe\n",
            "gpg: filter_flush failed on close: Broken pipe\n",
            "gpg: cannot open '/dev/tty': No such device or address\n",
            "Warning: apt-key output should not be parsed (stdout is not a terminal)\n",
            "gpg: [stdout]: write error: Broken pipe\n",
            "gpg: filter_flush failed on close: Broken pipe\n"
          ]
        },
        {
          "output_type": "execute_result",
          "data": {
            "text/plain": []
          },
          "metadata": {},
          "execution_count": 14
        }
      ]
    },
    {
      "cell_type": "code",
      "source": [
        "!apt-get update\n",
        "!apt-get install chromium chromium-driver"
      ],
      "metadata": {
        "colab": {
          "base_uri": "https://localhost:8080/"
        },
        "id": "xBWD6Xadp5Hq",
        "outputId": "d65f6a75-b2bf-4119-fc66-33c59db02fba"
      },
      "execution_count": null,
      "outputs": [
        {
          "output_type": "stream",
          "name": "stdout",
          "text": [
            "\r0% [Working]\r            \rHit:1 http://deb.debian.org/debian buster InRelease\n",
            "\r0% [Connecting to archive.ubuntu.com] [Connecting to security.ubuntu.com (91.18\r                                                                               \rHit:2 https://developer.download.nvidia.com/compute/cuda/repos/ubuntu2004/x86_64  InRelease\n",
            "\r                                                                               \rHit:3 http://deb.debian.org/debian buster-updates InRelease\n",
            "\r                                                                               \rHit:4 http://deb.debian.org/debian-security buster/updates InRelease\n",
            "Hit:5 https://cloud.r-project.org/bin/linux/ubuntu focal-cran40/ InRelease\n",
            "Hit:6 http://security.ubuntu.com/ubuntu focal-security InRelease\n",
            "Hit:7 http://ppa.launchpad.net/c2d4u.team/c2d4u4.0+/ubuntu focal InRelease\n",
            "Hit:8 http://archive.ubuntu.com/ubuntu focal InRelease\n",
            "Hit:9 http://archive.ubuntu.com/ubuntu focal-updates InRelease\n",
            "Hit:10 http://ppa.launchpad.net/cran/libgit2/ubuntu focal InRelease\n",
            "Hit:11 http://archive.ubuntu.com/ubuntu focal-backports InRelease\n",
            "Hit:12 http://ppa.launchpad.net/deadsnakes/ppa/ubuntu focal InRelease\n",
            "Hit:13 http://ppa.launchpad.net/graphics-drivers/ppa/ubuntu focal InRelease\n",
            "Hit:14 http://ppa.launchpad.net/ubuntugis/ppa/ubuntu focal InRelease\n",
            "Reading package lists... Done\n",
            "Reading package lists... Done\n",
            "Building dependency tree       \n",
            "Reading state information... Done\n",
            "chromium is already the newest version (90.0.4430.212-1~deb10u1).\n",
            "chromium-driver is already the newest version (90.0.4430.212-1~deb10u1).\n",
            "0 upgraded, 0 newly installed, 0 to remove and 23 not upgraded.\n"
          ]
        }
      ]
    },
    {
      "cell_type": "code",
      "source": [
        "def webdriver():\n",
        "    options = webdriver.ChromeOptions()\n",
        "    options.add_argument(\"--verbose\")\n",
        "    options.add_argument('--no-sandbox')\n",
        "    options.add_argument('--headless')\n",
        "    options.add_argument('--disable-gpu')\n",
        "    options.add_argument(\"--window-size=1920, 1200\")\n",
        "    options.add_argument('--disable-dev-shm-usage')\n",
        "    driver = webdriver.Chrome(options=options)\n",
        "    return driver"
      ],
      "metadata": {
        "id": "QgyqpRD1qFRG"
      },
      "execution_count": null,
      "outputs": []
    },
    {
      "cell_type": "code",
      "source": [
        "!pip install webdriver_manager\n",
        "\n",
        "import pandas as pd\n",
        "import time\n",
        "from selenium import webdriver\n",
        "from webdriver_manager.chrome import ChromeDriverManager"
      ],
      "metadata": {
        "colab": {
          "base_uri": "https://localhost:8080/"
        },
        "id": "Pt1e0Qk5qftP",
        "outputId": "61bad107-2534-4df9-b4d4-7bfd54b7efb0"
      },
      "execution_count": null,
      "outputs": [
        {
          "output_type": "stream",
          "name": "stdout",
          "text": [
            "Looking in indexes: https://pypi.org/simple, https://us-python.pkg.dev/colab-wheels/public/simple/\n",
            "Requirement already satisfied: webdriver_manager in /usr/local/lib/python3.9/dist-packages (3.8.5)\n",
            "Requirement already satisfied: requests in /usr/local/lib/python3.9/dist-packages (from webdriver_manager) (2.27.1)\n",
            "Requirement already satisfied: python-dotenv in /usr/local/lib/python3.9/dist-packages (from webdriver_manager) (1.0.0)\n",
            "Requirement already satisfied: tqdm in /usr/local/lib/python3.9/dist-packages (from webdriver_manager) (4.65.0)\n",
            "Requirement already satisfied: packaging in /usr/local/lib/python3.9/dist-packages (from webdriver_manager) (23.0)\n",
            "Requirement already satisfied: idna<4,>=2.5 in /usr/local/lib/python3.9/dist-packages (from requests->webdriver_manager) (3.4)\n",
            "Requirement already satisfied: urllib3<1.27,>=1.21.1 in /usr/local/lib/python3.9/dist-packages (from requests->webdriver_manager) (1.26.15)\n",
            "Requirement already satisfied: certifi>=2017.4.17 in /usr/local/lib/python3.9/dist-packages (from requests->webdriver_manager) (2022.12.7)\n",
            "Requirement already satisfied: charset-normalizer~=2.0.0 in /usr/local/lib/python3.9/dist-packages (from requests->webdriver_manager) (2.0.12)\n"
          ]
        }
      ]
    },
    {
      "cell_type": "code",
      "source": [
        "from selenium import webdriver\n",
        "from selenium.webdriver.chrome.options import Options\n",
        "\n",
        "page_url = \"https://lotr.fandom.com/wiki/Category:Characters\" \n",
        "options = Options()\n",
        "options.add_argument(\"--headless\")\n",
        "options.add_argument(\"--no-sandbox\")\n",
        "\n",
        "options.headless = True\n",
        "\n",
        "driver = webdriver.Chrome(\"/usr/bin/chromedriver\", options=options)"
      ],
      "metadata": {
        "colab": {
          "base_uri": "https://localhost:8080/"
        },
        "id": "fy5JCLDtrZVT",
        "outputId": "8ddc76cd-a0f2-4174-d64c-2a8f0ca4ac3f"
      },
      "execution_count": null,
      "outputs": [
        {
          "output_type": "stream",
          "name": "stderr",
          "text": [
            "<ipython-input-23-886c6bf868b5>:9: DeprecationWarning: headless property is deprecated, instead use add_argument('--headless') or add_argument('--headless=new')\n",
            "  options.headless = True\n",
            "<ipython-input-23-886c6bf868b5>:11: DeprecationWarning: executable_path has been deprecated, please pass in a Service object\n",
            "  driver = webdriver.Chrome(\"/usr/bin/chromedriver\", options=options)\n"
          ]
        }
      ]
    },
    {
      "cell_type": "code",
      "source": [
        "driver.get(page_url)\n",
        "\n",
        "from selenium.webdriver.common.by import By\n",
        "\n",
        "categories = driver.find_elements(By.CLASS_NAME, \"category-page__member-link\")"
      ],
      "metadata": {
        "id": "3NW4ExlpsxOY"
      },
      "execution_count": null,
      "outputs": []
    },
    {
      "cell_type": "code",
      "source": [
        "categories"
      ],
      "metadata": {
        "colab": {
          "base_uri": "https://localhost:8080/"
        },
        "id": "x5VF_3WDtFR4",
        "outputId": "e83143d2-6621-4cf9-bed9-a7fe78d6c047"
      },
      "execution_count": null,
      "outputs": [
        {
          "output_type": "execute_result",
          "data": {
            "text/plain": [
              "[<selenium.webdriver.remote.webelement.WebElement (session=\"710cbbd9d8fc8aa99eb236df8fa219bd\", element=\"a246a7b7-45b7-4a62-9423-f67feab66a4b\")>,\n",
              " <selenium.webdriver.remote.webelement.WebElement (session=\"710cbbd9d8fc8aa99eb236df8fa219bd\", element=\"21f72b92-b7d1-48a8-9a11-21e8613292e4\")>,\n",
              " <selenium.webdriver.remote.webelement.WebElement (session=\"710cbbd9d8fc8aa99eb236df8fa219bd\", element=\"0fc61827-007d-4363-aa81-6fe0e61fa27c\")>,\n",
              " <selenium.webdriver.remote.webelement.WebElement (session=\"710cbbd9d8fc8aa99eb236df8fa219bd\", element=\"d32bdfcf-c245-4d95-aa3e-108b9e4fcb52\")>,\n",
              " <selenium.webdriver.remote.webelement.WebElement (session=\"710cbbd9d8fc8aa99eb236df8fa219bd\", element=\"c8e91455-9604-45f3-bea0-57137eeed709\")>,\n",
              " <selenium.webdriver.remote.webelement.WebElement (session=\"710cbbd9d8fc8aa99eb236df8fa219bd\", element=\"5d04f29f-bfa3-4817-88a4-15f79b4fd597\")>,\n",
              " <selenium.webdriver.remote.webelement.WebElement (session=\"710cbbd9d8fc8aa99eb236df8fa219bd\", element=\"967c57b5-f465-452a-bd3f-51aad6d61117\")>,\n",
              " <selenium.webdriver.remote.webelement.WebElement (session=\"710cbbd9d8fc8aa99eb236df8fa219bd\", element=\"72ae7f83-9371-4354-aa5c-756c91f605ca\")>,\n",
              " <selenium.webdriver.remote.webelement.WebElement (session=\"710cbbd9d8fc8aa99eb236df8fa219bd\", element=\"22248807-0144-4aad-a143-3c8bb76edafb\")>,\n",
              " <selenium.webdriver.remote.webelement.WebElement (session=\"710cbbd9d8fc8aa99eb236df8fa219bd\", element=\"f0c94a49-1196-414b-91ff-d0ef3012ca9d\")>,\n",
              " <selenium.webdriver.remote.webelement.WebElement (session=\"710cbbd9d8fc8aa99eb236df8fa219bd\", element=\"90757db7-82e5-4676-8890-13f95ba584ff\")>,\n",
              " <selenium.webdriver.remote.webelement.WebElement (session=\"710cbbd9d8fc8aa99eb236df8fa219bd\", element=\"266ddc6b-005f-47f4-8eae-dc1c08528a07\")>,\n",
              " <selenium.webdriver.remote.webelement.WebElement (session=\"710cbbd9d8fc8aa99eb236df8fa219bd\", element=\"87c26255-e23f-4829-bcbb-469459de4941\")>,\n",
              " <selenium.webdriver.remote.webelement.WebElement (session=\"710cbbd9d8fc8aa99eb236df8fa219bd\", element=\"b78221be-e11c-456c-8eaa-3a03538cba34\")>,\n",
              " <selenium.webdriver.remote.webelement.WebElement (session=\"710cbbd9d8fc8aa99eb236df8fa219bd\", element=\"2c14edf8-3f57-4e73-8198-7d089dce1991\")>,\n",
              " <selenium.webdriver.remote.webelement.WebElement (session=\"710cbbd9d8fc8aa99eb236df8fa219bd\", element=\"c9232938-6a62-4ab5-ab9e-b7d5a893a4fa\")>,\n",
              " <selenium.webdriver.remote.webelement.WebElement (session=\"710cbbd9d8fc8aa99eb236df8fa219bd\", element=\"7ddff7be-07cd-4065-9306-a338b2e1643d\")>,\n",
              " <selenium.webdriver.remote.webelement.WebElement (session=\"710cbbd9d8fc8aa99eb236df8fa219bd\", element=\"e13a528c-9687-4d05-9621-e5efa176c10f\")>,\n",
              " <selenium.webdriver.remote.webelement.WebElement (session=\"710cbbd9d8fc8aa99eb236df8fa219bd\", element=\"d500f3a7-d701-4fe8-a21c-eb8901042043\")>,\n",
              " <selenium.webdriver.remote.webelement.WebElement (session=\"710cbbd9d8fc8aa99eb236df8fa219bd\", element=\"8a030313-989e-4d28-b02b-904e5f27b87a\")>,\n",
              " <selenium.webdriver.remote.webelement.WebElement (session=\"710cbbd9d8fc8aa99eb236df8fa219bd\", element=\"d5ed50aa-483f-4581-8ebd-47dfba1da82b\")>,\n",
              " <selenium.webdriver.remote.webelement.WebElement (session=\"710cbbd9d8fc8aa99eb236df8fa219bd\", element=\"138856ba-67da-4198-a515-b2bf16f85681\")>,\n",
              " <selenium.webdriver.remote.webelement.WebElement (session=\"710cbbd9d8fc8aa99eb236df8fa219bd\", element=\"f9da5f9f-510a-44f1-84dc-b5eecaaeb1a5\")>,\n",
              " <selenium.webdriver.remote.webelement.WebElement (session=\"710cbbd9d8fc8aa99eb236df8fa219bd\", element=\"b6d31c45-15b6-487d-a1dc-478d5f16bcef\")>,\n",
              " <selenium.webdriver.remote.webelement.WebElement (session=\"710cbbd9d8fc8aa99eb236df8fa219bd\", element=\"df95f2ec-5d21-471e-896c-f707715b5df7\")>,\n",
              " <selenium.webdriver.remote.webelement.WebElement (session=\"710cbbd9d8fc8aa99eb236df8fa219bd\", element=\"c6c39a54-9c9b-4b95-8b61-93c3852dd6c4\")>,\n",
              " <selenium.webdriver.remote.webelement.WebElement (session=\"710cbbd9d8fc8aa99eb236df8fa219bd\", element=\"0d6ea7ed-327d-4736-b397-6b264950be50\")>,\n",
              " <selenium.webdriver.remote.webelement.WebElement (session=\"710cbbd9d8fc8aa99eb236df8fa219bd\", element=\"0a41344a-c597-4a93-b7d1-02a82979462c\")>,\n",
              " <selenium.webdriver.remote.webelement.WebElement (session=\"710cbbd9d8fc8aa99eb236df8fa219bd\", element=\"d14272ef-8834-4f99-b1c8-4e0144d85292\")>,\n",
              " <selenium.webdriver.remote.webelement.WebElement (session=\"710cbbd9d8fc8aa99eb236df8fa219bd\", element=\"f10d97fa-e037-4aa5-b31b-12879c8e4f30\")>,\n",
              " <selenium.webdriver.remote.webelement.WebElement (session=\"710cbbd9d8fc8aa99eb236df8fa219bd\", element=\"e2e99566-079a-4849-ab75-ffae80c7c4d1\")>,\n",
              " <selenium.webdriver.remote.webelement.WebElement (session=\"710cbbd9d8fc8aa99eb236df8fa219bd\", element=\"1d2c3814-dd83-4924-8895-8e0aa670a490\")>,\n",
              " <selenium.webdriver.remote.webelement.WebElement (session=\"710cbbd9d8fc8aa99eb236df8fa219bd\", element=\"402cefd7-3f7c-47a7-83ef-d086a94a74f2\")>,\n",
              " <selenium.webdriver.remote.webelement.WebElement (session=\"710cbbd9d8fc8aa99eb236df8fa219bd\", element=\"6d4892fd-bce4-4acb-a1c3-7fc6efd3ea22\")>,\n",
              " <selenium.webdriver.remote.webelement.WebElement (session=\"710cbbd9d8fc8aa99eb236df8fa219bd\", element=\"588a0c6d-452f-4ca9-a306-83fa326ab59e\")>,\n",
              " <selenium.webdriver.remote.webelement.WebElement (session=\"710cbbd9d8fc8aa99eb236df8fa219bd\", element=\"1be298fb-ad87-44ea-be14-54a9c795f959\")>,\n",
              " <selenium.webdriver.remote.webelement.WebElement (session=\"710cbbd9d8fc8aa99eb236df8fa219bd\", element=\"c8c548eb-7e85-411a-8757-50520bfb7c1c\")>,\n",
              " <selenium.webdriver.remote.webelement.WebElement (session=\"710cbbd9d8fc8aa99eb236df8fa219bd\", element=\"83c884e3-e83f-4cbb-89f6-1feb29f40ff9\")>,\n",
              " <selenium.webdriver.remote.webelement.WebElement (session=\"710cbbd9d8fc8aa99eb236df8fa219bd\", element=\"9e585f2e-4026-4281-9141-37a65b3452b3\")>,\n",
              " <selenium.webdriver.remote.webelement.WebElement (session=\"710cbbd9d8fc8aa99eb236df8fa219bd\", element=\"8e5f179b-43a8-4d9c-bfbe-addbd44e1c48\")>,\n",
              " <selenium.webdriver.remote.webelement.WebElement (session=\"710cbbd9d8fc8aa99eb236df8fa219bd\", element=\"166dd207-3126-40a3-a46f-2d2c5c78b458\")>,\n",
              " <selenium.webdriver.remote.webelement.WebElement (session=\"710cbbd9d8fc8aa99eb236df8fa219bd\", element=\"0882317d-f754-49fd-a5ec-df480ceed000\")>,\n",
              " <selenium.webdriver.remote.webelement.WebElement (session=\"710cbbd9d8fc8aa99eb236df8fa219bd\", element=\"d001c153-6e95-414b-9c0c-310ef81de55b\")>,\n",
              " <selenium.webdriver.remote.webelement.WebElement (session=\"710cbbd9d8fc8aa99eb236df8fa219bd\", element=\"1e68d24b-a51a-44a1-ba8b-4f4b29f35397\")>,\n",
              " <selenium.webdriver.remote.webelement.WebElement (session=\"710cbbd9d8fc8aa99eb236df8fa219bd\", element=\"ec3a6f85-4a60-4054-baf7-6ceba06ef977\")>,\n",
              " <selenium.webdriver.remote.webelement.WebElement (session=\"710cbbd9d8fc8aa99eb236df8fa219bd\", element=\"968433e2-1623-45c1-8933-3d959a7f5885\")>,\n",
              " <selenium.webdriver.remote.webelement.WebElement (session=\"710cbbd9d8fc8aa99eb236df8fa219bd\", element=\"44c68c10-2885-4463-9ee7-b964419504d8\")>]"
            ]
          },
          "metadata": {},
          "execution_count": 25
        }
      ]
    },
    {
      "cell_type": "code",
      "source": [
        "categories[0].text"
      ],
      "metadata": {
        "colab": {
          "base_uri": "https://localhost:8080/",
          "height": 36
        },
        "id": "7AY1A13OtN7e",
        "outputId": "baca0749-e463-4f95-d759-e734d3dbf62e"
      },
      "execution_count": null,
      "outputs": [
        {
          "output_type": "execute_result",
          "data": {
            "text/plain": [
              "'Category:CGI characters'"
            ],
            "application/vnd.google.colaboratory.intrinsic+json": {
              "type": "string"
            }
          },
          "metadata": {},
          "execution_count": 26
        }
      ]
    },
    {
      "cell_type": "code",
      "source": [
        "categories[0].get_attribute(\"href\")"
      ],
      "metadata": {
        "colab": {
          "base_uri": "https://localhost:8080/",
          "height": 36
        },
        "id": "UBF7kDWYth5n",
        "outputId": "c9ca74b2-26b0-423f-e014-b0008fbbb386"
      },
      "execution_count": null,
      "outputs": [
        {
          "output_type": "execute_result",
          "data": {
            "text/plain": [
              "'https://lotr.fandom.com/wiki/Category:CGI_characters'"
            ],
            "application/vnd.google.colaboratory.intrinsic+json": {
              "type": "string"
            }
          },
          "metadata": {},
          "execution_count": 27
        }
      ]
    },
    {
      "cell_type": "code",
      "source": [
        "driver.get(categories[0].get_attribute(\"href\"))"
      ],
      "metadata": {
        "id": "E3tanto3tkBG"
      },
      "execution_count": null,
      "outputs": []
    },
    {
      "cell_type": "code",
      "source": [
        "character_names = driver.find_elements(By.CLASS_NAME, \"category-page__member-link\")"
      ],
      "metadata": {
        "id": "I7KAzs-ktlzQ"
      },
      "execution_count": null,
      "outputs": []
    },
    {
      "cell_type": "code",
      "source": [
        "character_names[6].text"
      ],
      "metadata": {
        "colab": {
          "base_uri": "https://localhost:8080/",
          "height": 36
        },
        "id": "C_krzmf-t1Ky",
        "outputId": "69a46bb0-6393-49e5-fbb3-13c5c309881c"
      },
      "execution_count": null,
      "outputs": [
        {
          "output_type": "execute_result",
          "data": {
            "text/plain": [
              "'Great Goblin'"
            ],
            "application/vnd.google.colaboratory.intrinsic+json": {
              "type": "string"
            }
          },
          "metadata": {},
          "execution_count": 30
        }
      ]
    },
    {
      "cell_type": "code",
      "source": [
        "import pandas as pd\n",
        "import time\n",
        "from selenium import webdriver\n",
        "from webdriver_manager.chrome import ChromeDriverManager\n",
        "\n",
        "# create driver \n",
        "options = Options()\n",
        "options.add_argument(\"--headless\")\n",
        "options.add_argument(\"--no-sandbox\")\n",
        "\n",
        "options.headless = True\n",
        "\n",
        "driver = webdriver.Chrome(\"/usr/bin/chromedriver\", options=options)\n",
        "\n",
        "# go to the characters\n",
        "page_url = \"https://lotr.fandom.com/wiki/Category:Characters\"\n",
        "driver.get(page_url)\n",
        "\n",
        "# give some time for the page to get loaded fully\n",
        "time.sleep(5)\n",
        "\n",
        "# find categories on the page\n",
        "from selenium.webdriver.common.by import By\n",
        "\n",
        "story_categories = driver.find_elements(By.CLASS_NAME, \"category-page__member-link\")\n",
        "\n",
        "categories = []\n",
        "\n",
        "for category in story_categories:\n",
        "    category_url = category.get_attribute(\"href\")\n",
        "    category_name = category.text\n",
        "    categories.append({\"category_name\": category_name, \"url\": category_url})"
      ],
      "metadata": {
        "colab": {
          "base_uri": "https://localhost:8080/"
        },
        "id": "17nkNG97t2eS",
        "outputId": "a4a88928-c0f8-453f-9097-104b8110c7d6"
      },
      "execution_count": null,
      "outputs": [
        {
          "output_type": "stream",
          "name": "stderr",
          "text": [
            "<ipython-input-32-e74f92928024>:11: DeprecationWarning: headless property is deprecated, instead use add_argument('--headless') or add_argument('--headless=new')\n",
            "  options.headless = True\n",
            "<ipython-input-32-e74f92928024>:13: DeprecationWarning: executable_path has been deprecated, please pass in a Service object\n",
            "  driver = webdriver.Chrome(\"/usr/bin/chromedriver\", options=options)\n"
          ]
        }
      ]
    },
    {
      "cell_type": "code",
      "source": [
        "categories"
      ],
      "metadata": {
        "colab": {
          "base_uri": "https://localhost:8080/"
        },
        "id": "QPgZP_bht6OS",
        "outputId": "0a948808-eff9-47f1-90d0-48098dda1e6e"
      },
      "execution_count": null,
      "outputs": [
        {
          "output_type": "execute_result",
          "data": {
            "text/plain": [
              "[{'category_name': 'Category:CGI characters',\n",
              "  'url': 'https://lotr.fandom.com/wiki/Category:CGI_characters'},\n",
              " {'category_name': 'Category:Characters by race',\n",
              "  'url': 'https://lotr.fandom.com/wiki/Category:Characters_by_race'},\n",
              " {'category_name': 'Category:Characters in Beren and Lúthien',\n",
              "  'url': 'https://lotr.fandom.com/wiki/Category:Characters_in_Beren_and_L%C3%BAthien'},\n",
              " {'category_name': 'Category:Characters in Born of Hope',\n",
              "  'url': 'https://lotr.fandom.com/wiki/Category:Characters_in_Born_of_Hope'},\n",
              " {'category_name': \"Category:Characters in Morgoth's Ring\",\n",
              "  'url': 'https://lotr.fandom.com/wiki/Category:Characters_in_Morgoth%27s_Ring'},\n",
              " {'category_name': 'Category:Characters in The Book of Lost Tales',\n",
              "  'url': 'https://lotr.fandom.com/wiki/Category:Characters_in_The_Book_of_Lost_Tales'},\n",
              " {'category_name': 'Category:Characters in The Children of Húrin',\n",
              "  'url': 'https://lotr.fandom.com/wiki/Category:Characters_in_The_Children_of_H%C3%BArin'},\n",
              " {'category_name': 'Category:Characters in The Fall of Gondolin',\n",
              "  'url': 'https://lotr.fandom.com/wiki/Category:Characters_in_The_Fall_of_Gondolin'},\n",
              " {'category_name': 'Category:Characters in The History of Middle-earth',\n",
              "  'url': 'https://lotr.fandom.com/wiki/Category:Characters_in_The_History_of_Middle-earth'},\n",
              " {'category_name': 'Category:Characters in The Hunt for Gollum',\n",
              "  'url': 'https://lotr.fandom.com/wiki/Category:Characters_in_The_Hunt_for_Gollum'},\n",
              " {'category_name': 'Category:Characters in The Lays of Beleriand',\n",
              "  'url': 'https://lotr.fandom.com/wiki/Category:Characters_in_The_Lays_of_Beleriand'},\n",
              " {'category_name': 'Category:Characters in The Lord of the Rings Trading Card Game',\n",
              "  'url': 'https://lotr.fandom.com/wiki/Category:Characters_in_The_Lord_of_the_Rings_Trading_Card_Game'},\n",
              " {'category_name': 'Category:Characters in The Peoples of Middle-earth',\n",
              "  'url': 'https://lotr.fandom.com/wiki/Category:Characters_in_The_Peoples_of_Middle-earth'},\n",
              " {'category_name': 'Category:Characters in The Shaping of Middle-earth',\n",
              "  'url': 'https://lotr.fandom.com/wiki/Category:Characters_in_The_Shaping_of_Middle-earth'},\n",
              " {'category_name': 'Category:Characters in The War of the Jewels',\n",
              "  'url': 'https://lotr.fandom.com/wiki/Category:Characters_in_The_War_of_the_Jewels'},\n",
              " {'category_name': 'Category:Characters in Unfinished Tales',\n",
              "  'url': 'https://lotr.fandom.com/wiki/Category:Characters_in_Unfinished_Tales'},\n",
              " {'category_name': 'Category:Characters that have appeared in the Hobbit and the Lord of the Rings',\n",
              "  'url': 'https://lotr.fandom.com/wiki/Category:Characters_that_have_appeared_in_the_Hobbit_and_the_Lord_of_the_Rings'},\n",
              " {'category_name': 'Category:Children',\n",
              "  'url': 'https://lotr.fandom.com/wiki/Category:Children'},\n",
              " {'category_name': 'Category:Deaths in battle',\n",
              "  'url': 'https://lotr.fandom.com/wiki/Category:Deaths_in_battle'},\n",
              " {'category_name': 'Category:Elf friends',\n",
              "  'url': 'https://lotr.fandom.com/wiki/Category:Elf_friends'},\n",
              " {'category_name': 'Category:Fellowship members',\n",
              "  'url': 'https://lotr.fandom.com/wiki/Category:Fellowship_members'},\n",
              " {'category_name': 'Category:Guardians of Middle-earth characters',\n",
              "  'url': 'https://lotr.fandom.com/wiki/Category:Guardians_of_Middle-earth_characters'},\n",
              " {'category_name': 'Category:Heavenly beings',\n",
              "  'url': 'https://lotr.fandom.com/wiki/Category:Heavenly_beings'},\n",
              " {'category_name': 'Category:Inhabitants of Tol Eressëa',\n",
              "  'url': 'https://lotr.fandom.com/wiki/Category:Inhabitants_of_Tol_Eress%C3%ABa'},\n",
              " {'category_name': 'Category:Kings',\n",
              "  'url': 'https://lotr.fandom.com/wiki/Category:Kings'},\n",
              " {'category_name': 'Category:Loremasters',\n",
              "  'url': 'https://lotr.fandom.com/wiki/Category:Loremasters'},\n",
              " {'category_name': 'Category:Major characters (The Lord of the Rings)',\n",
              "  'url': 'https://lotr.fandom.com/wiki/Category:Major_characters_(The_Lord_of_the_Rings)'},\n",
              " {'category_name': 'Category:Non-canonical characters',\n",
              "  'url': 'https://lotr.fandom.com/wiki/Category:Non-canonical_characters'},\n",
              " {'category_name': 'Category:Peter Jackson adaptation characters',\n",
              "  'url': 'https://lotr.fandom.com/wiki/Category:Peter_Jackson_adaptation_characters'},\n",
              " {'category_name': 'Category:Precanonical characters',\n",
              "  'url': 'https://lotr.fandom.com/wiki/Category:Precanonical_characters'},\n",
              " {'category_name': 'Category:Princesses',\n",
              "  'url': 'https://lotr.fandom.com/wiki/Category:Princesses'},\n",
              " {'category_name': 'Category:Queens',\n",
              "  'url': 'https://lotr.fandom.com/wiki/Category:Queens'},\n",
              " {'category_name': 'Category:Ring bearers',\n",
              "  'url': 'https://lotr.fandom.com/wiki/Category:Ring_bearers'},\n",
              " {'category_name': 'Category:Seers',\n",
              "  'url': 'https://lotr.fandom.com/wiki/Category:Seers'},\n",
              " {'category_name': 'Category:Story tellers',\n",
              "  'url': 'https://lotr.fandom.com/wiki/Category:Story_tellers'},\n",
              " {'category_name': 'Category:The Fellowship of the Ring (film) characters',\n",
              "  'url': 'https://lotr.fandom.com/wiki/Category:The_Fellowship_of_the_Ring_(film)_characters'},\n",
              " {'category_name': 'Category:The Hobbit Characters',\n",
              "  'url': 'https://lotr.fandom.com/wiki/Category:The_Hobbit_Characters'},\n",
              " {'category_name': 'Category:The Hobbit: An Unexpected Journey Characters',\n",
              "  'url': 'https://lotr.fandom.com/wiki/Category:The_Hobbit:_An_Unexpected_Journey_Characters'},\n",
              " {'category_name': 'Category:The Hobbit: The Battle of the Five Armies Characters',\n",
              "  'url': 'https://lotr.fandom.com/wiki/Category:The_Hobbit:_The_Battle_of_the_Five_Armies_Characters'},\n",
              " {'category_name': 'Category:The Hobbit: The Desolation of Smaug Characters',\n",
              "  'url': 'https://lotr.fandom.com/wiki/Category:The_Hobbit:_The_Desolation_of_Smaug_Characters'},\n",
              " {'category_name': 'Category:The Lord of the Rings characters',\n",
              "  'url': 'https://lotr.fandom.com/wiki/Category:The_Lord_of_the_Rings_characters'},\n",
              " {'category_name': 'Category:The Return of the King (film) characters',\n",
              "  'url': 'https://lotr.fandom.com/wiki/Category:The_Return_of_the_King_(film)_characters'},\n",
              " {'category_name': 'Category:The Rings of Power characters',\n",
              "  'url': 'https://lotr.fandom.com/wiki/Category:The_Rings_of_Power_characters'},\n",
              " {'category_name': 'Category:The Silmarillion characters',\n",
              "  'url': 'https://lotr.fandom.com/wiki/Category:The_Silmarillion_characters'},\n",
              " {'category_name': 'Category:The Two Towers (film) characters',\n",
              "  'url': 'https://lotr.fandom.com/wiki/Category:The_Two_Towers_(film)_characters'},\n",
              " {'category_name': 'Category:Twins',\n",
              "  'url': 'https://lotr.fandom.com/wiki/Category:Twins'},\n",
              " {'category_name': 'Category:Villains',\n",
              "  'url': 'https://lotr.fandom.com/wiki/Category:Villains'}]"
            ]
          },
          "metadata": {},
          "execution_count": 33
        }
      ]
    },
    {
      "cell_type": "code",
      "source": [
        "character_list = []\n",
        "\n",
        "for chapter in categories:\n",
        "    driver.get(chapter[\"url\"])\n",
        "    \n",
        "    char_elements = driver.find_elements(By.CLASS_NAME, \"category-page__member-link\")\n",
        "    \n",
        "    for element in char_elements:\n",
        "        character_list.append({\"chapter\": chapter[\"category_name\"], \"character\": element.text})"
      ],
      "metadata": {
        "id": "EPR-RQYeucdB"
      },
      "execution_count": null,
      "outputs": []
    },
    {
      "cell_type": "code",
      "source": [
        "character_list"
      ],
      "metadata": {
        "id": "j8_HdEM3uhyv"
      },
      "execution_count": null,
      "outputs": []
    },
    {
      "cell_type": "code",
      "source": [],
      "metadata": {
        "id": "kCjurExwzi-a"
      },
      "execution_count": null,
      "outputs": []
    }
  ]
}